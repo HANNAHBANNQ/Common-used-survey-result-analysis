{
  "nbformat": 4,
  "nbformat_minor": 0,
  "metadata": {
    "colab": {
      "name": "survey_data.ipynb",
      "provenance": [],
      "collapsed_sections": []
    },
    "kernelspec": {
      "name": "python3",
      "display_name": "Python 3"
    },
    "language_info": {
      "name": "python"
    }
  },
  "cells": [
    {
      "cell_type": "code",
      "execution_count": 2,
      "metadata": {
        "colab": {
          "base_uri": "https://localhost:8080/"
        },
        "id": "aOo9cSyIDllp",
        "outputId": "8e466582-a54d-4dbf-988f-8651a7f4ad70"
      },
      "outputs": [
        {
          "output_type": "stream",
          "name": "stdout",
          "text": [
            "Mounted at /content/drive\n"
          ]
        }
      ],
      "source": [
        "from google.colab import drive\n",
        "drive.mount('/content/drive')"
      ]
    },
    {
      "cell_type": "code",
      "source": [
        "import pandas as pd\n",
        "from pandas import read_csv\n",
        "import numpy as np"
      ],
      "metadata": {
        "id": "oRR_w90vDsJj"
      },
      "execution_count": 3,
      "outputs": []
    },
    {
      "cell_type": "code",
      "source": [
        "data = pd.read_excel('/content/drive/MyDrive/Geographical stereotype/survey_data.xlsx')"
      ],
      "metadata": {
        "id": "-dYXaRP_Dvlc"
      },
      "execution_count": 4,
      "outputs": []
    },
    {
      "cell_type": "code",
      "source": [
        "data.head()"
      ],
      "metadata": {
        "colab": {
          "base_uri": "https://localhost:8080/",
          "height": 577
        },
        "id": "jNeiu27aQJi4",
        "outputId": "bc8624f7-9227-42df-a5e6-268337173b7a"
      },
      "execution_count": 5,
      "outputs": [
        {
          "output_type": "execute_result",
          "data": {
            "text/plain": [
              "       作答ID      用户ID                 开始时间                 结束时间  作答时长   省份  \\\n",
              "0  M6jYzgBM  BepKzG8L  2022-06-30 13:48:00  2022-06-30 13:52:50   290  浙江省   \n",
              "1  LwV9YDY7  0eyzOpVM  2022-06-30 13:40:17  2022-06-30 13:45:13   296  山东省   \n",
              "2  eEwErgv7  xMobNX0e  2022-06-30 13:10:29  2022-06-30 13:14:12   223  河南省   \n",
              "3  L0gBzKy7  KLOG2NxL  2022-06-30 12:52:30  2022-06-30 12:58:57   387  山东省   \n",
              "4  Mo9ZEoNL  4enbwb2e  2022-06-30 12:10:51  2022-06-30 12:21:06   615  江苏省   \n",
              "\n",
              "     城市 随机场景 随机地域    Q  ...  Q.20  Q_1.2  Q_2.2  Q_3.1  Q_4.1   Q_5   Q_6  \\\n",
              "0   杭州市  场景一   华北  1.0  ...    同意     同意    不确定     同意    不确定    同意  非常同意   \n",
              "1   青岛市  场景九   老乡  NaN  ...   不确定     同意     同意     同意    不确定   不确定    同意   \n",
              "2  三门峡市  场景三   华北  NaN  ...    同意     同意     同意     同意     同意  非常同意    同意   \n",
              "3   聊城市  场景四   辽宁  NaN  ...    同意     同意     同意     同意     同意    同意    同意   \n",
              "4   南通市  场景三   华南  NaN  ...    同意     同意    不确定   非常同意    不确定   不确定    反对   \n",
              "\n",
              "   Q_7  Q_8   Q_9  \n",
              "0   反对  不确定    同意  \n",
              "1  不确定   同意    同意  \n",
              "2  不确定  不确定    同意  \n",
              "3  不确定   同意  非常同意  \n",
              "4   反对  不确定    同意  \n",
              "\n",
              "[5 rows x 158 columns]"
            ],
            "text/html": [
              "\n",
              "  <div id=\"df-ecec8de6-8ab0-414a-a319-399f677546e9\">\n",
              "    <div class=\"colab-df-container\">\n",
              "      <div>\n",
              "<style scoped>\n",
              "    .dataframe tbody tr th:only-of-type {\n",
              "        vertical-align: middle;\n",
              "    }\n",
              "\n",
              "    .dataframe tbody tr th {\n",
              "        vertical-align: top;\n",
              "    }\n",
              "\n",
              "    .dataframe thead th {\n",
              "        text-align: right;\n",
              "    }\n",
              "</style>\n",
              "<table border=\"1\" class=\"dataframe\">\n",
              "  <thead>\n",
              "    <tr style=\"text-align: right;\">\n",
              "      <th></th>\n",
              "      <th>作答ID</th>\n",
              "      <th>用户ID</th>\n",
              "      <th>开始时间</th>\n",
              "      <th>结束时间</th>\n",
              "      <th>作答时长</th>\n",
              "      <th>省份</th>\n",
              "      <th>城市</th>\n",
              "      <th>随机场景</th>\n",
              "      <th>随机地域</th>\n",
              "      <th>Q</th>\n",
              "      <th>...</th>\n",
              "      <th>Q.20</th>\n",
              "      <th>Q_1.2</th>\n",
              "      <th>Q_2.2</th>\n",
              "      <th>Q_3.1</th>\n",
              "      <th>Q_4.1</th>\n",
              "      <th>Q_5</th>\n",
              "      <th>Q_6</th>\n",
              "      <th>Q_7</th>\n",
              "      <th>Q_8</th>\n",
              "      <th>Q_9</th>\n",
              "    </tr>\n",
              "  </thead>\n",
              "  <tbody>\n",
              "    <tr>\n",
              "      <th>0</th>\n",
              "      <td>M6jYzgBM</td>\n",
              "      <td>BepKzG8L</td>\n",
              "      <td>2022-06-30 13:48:00</td>\n",
              "      <td>2022-06-30 13:52:50</td>\n",
              "      <td>290</td>\n",
              "      <td>浙江省</td>\n",
              "      <td>杭州市</td>\n",
              "      <td>场景一</td>\n",
              "      <td>华北</td>\n",
              "      <td>1.0</td>\n",
              "      <td>...</td>\n",
              "      <td>同意</td>\n",
              "      <td>同意</td>\n",
              "      <td>不确定</td>\n",
              "      <td>同意</td>\n",
              "      <td>不确定</td>\n",
              "      <td>同意</td>\n",
              "      <td>非常同意</td>\n",
              "      <td>反对</td>\n",
              "      <td>不确定</td>\n",
              "      <td>同意</td>\n",
              "    </tr>\n",
              "    <tr>\n",
              "      <th>1</th>\n",
              "      <td>LwV9YDY7</td>\n",
              "      <td>0eyzOpVM</td>\n",
              "      <td>2022-06-30 13:40:17</td>\n",
              "      <td>2022-06-30 13:45:13</td>\n",
              "      <td>296</td>\n",
              "      <td>山东省</td>\n",
              "      <td>青岛市</td>\n",
              "      <td>场景九</td>\n",
              "      <td>老乡</td>\n",
              "      <td>NaN</td>\n",
              "      <td>...</td>\n",
              "      <td>不确定</td>\n",
              "      <td>同意</td>\n",
              "      <td>同意</td>\n",
              "      <td>同意</td>\n",
              "      <td>不确定</td>\n",
              "      <td>不确定</td>\n",
              "      <td>同意</td>\n",
              "      <td>不确定</td>\n",
              "      <td>同意</td>\n",
              "      <td>同意</td>\n",
              "    </tr>\n",
              "    <tr>\n",
              "      <th>2</th>\n",
              "      <td>eEwErgv7</td>\n",
              "      <td>xMobNX0e</td>\n",
              "      <td>2022-06-30 13:10:29</td>\n",
              "      <td>2022-06-30 13:14:12</td>\n",
              "      <td>223</td>\n",
              "      <td>河南省</td>\n",
              "      <td>三门峡市</td>\n",
              "      <td>场景三</td>\n",
              "      <td>华北</td>\n",
              "      <td>NaN</td>\n",
              "      <td>...</td>\n",
              "      <td>同意</td>\n",
              "      <td>同意</td>\n",
              "      <td>同意</td>\n",
              "      <td>同意</td>\n",
              "      <td>同意</td>\n",
              "      <td>非常同意</td>\n",
              "      <td>同意</td>\n",
              "      <td>不确定</td>\n",
              "      <td>不确定</td>\n",
              "      <td>同意</td>\n",
              "    </tr>\n",
              "    <tr>\n",
              "      <th>3</th>\n",
              "      <td>L0gBzKy7</td>\n",
              "      <td>KLOG2NxL</td>\n",
              "      <td>2022-06-30 12:52:30</td>\n",
              "      <td>2022-06-30 12:58:57</td>\n",
              "      <td>387</td>\n",
              "      <td>山东省</td>\n",
              "      <td>聊城市</td>\n",
              "      <td>场景四</td>\n",
              "      <td>辽宁</td>\n",
              "      <td>NaN</td>\n",
              "      <td>...</td>\n",
              "      <td>同意</td>\n",
              "      <td>同意</td>\n",
              "      <td>同意</td>\n",
              "      <td>同意</td>\n",
              "      <td>同意</td>\n",
              "      <td>同意</td>\n",
              "      <td>同意</td>\n",
              "      <td>不确定</td>\n",
              "      <td>同意</td>\n",
              "      <td>非常同意</td>\n",
              "    </tr>\n",
              "    <tr>\n",
              "      <th>4</th>\n",
              "      <td>Mo9ZEoNL</td>\n",
              "      <td>4enbwb2e</td>\n",
              "      <td>2022-06-30 12:10:51</td>\n",
              "      <td>2022-06-30 12:21:06</td>\n",
              "      <td>615</td>\n",
              "      <td>江苏省</td>\n",
              "      <td>南通市</td>\n",
              "      <td>场景三</td>\n",
              "      <td>华南</td>\n",
              "      <td>NaN</td>\n",
              "      <td>...</td>\n",
              "      <td>同意</td>\n",
              "      <td>同意</td>\n",
              "      <td>不确定</td>\n",
              "      <td>非常同意</td>\n",
              "      <td>不确定</td>\n",
              "      <td>不确定</td>\n",
              "      <td>反对</td>\n",
              "      <td>反对</td>\n",
              "      <td>不确定</td>\n",
              "      <td>同意</td>\n",
              "    </tr>\n",
              "  </tbody>\n",
              "</table>\n",
              "<p>5 rows × 158 columns</p>\n",
              "</div>\n",
              "      <button class=\"colab-df-convert\" onclick=\"convertToInteractive('df-ecec8de6-8ab0-414a-a319-399f677546e9')\"\n",
              "              title=\"Convert this dataframe to an interactive table.\"\n",
              "              style=\"display:none;\">\n",
              "        \n",
              "  <svg xmlns=\"http://www.w3.org/2000/svg\" height=\"24px\"viewBox=\"0 0 24 24\"\n",
              "       width=\"24px\">\n",
              "    <path d=\"M0 0h24v24H0V0z\" fill=\"none\"/>\n",
              "    <path d=\"M18.56 5.44l.94 2.06.94-2.06 2.06-.94-2.06-.94-.94-2.06-.94 2.06-2.06.94zm-11 1L8.5 8.5l.94-2.06 2.06-.94-2.06-.94L8.5 2.5l-.94 2.06-2.06.94zm10 10l.94 2.06.94-2.06 2.06-.94-2.06-.94-.94-2.06-.94 2.06-2.06.94z\"/><path d=\"M17.41 7.96l-1.37-1.37c-.4-.4-.92-.59-1.43-.59-.52 0-1.04.2-1.43.59L10.3 9.45l-7.72 7.72c-.78.78-.78 2.05 0 2.83L4 21.41c.39.39.9.59 1.41.59.51 0 1.02-.2 1.41-.59l7.78-7.78 2.81-2.81c.8-.78.8-2.07 0-2.86zM5.41 20L4 18.59l7.72-7.72 1.47 1.35L5.41 20z\"/>\n",
              "  </svg>\n",
              "      </button>\n",
              "      \n",
              "  <style>\n",
              "    .colab-df-container {\n",
              "      display:flex;\n",
              "      flex-wrap:wrap;\n",
              "      gap: 12px;\n",
              "    }\n",
              "\n",
              "    .colab-df-convert {\n",
              "      background-color: #E8F0FE;\n",
              "      border: none;\n",
              "      border-radius: 50%;\n",
              "      cursor: pointer;\n",
              "      display: none;\n",
              "      fill: #1967D2;\n",
              "      height: 32px;\n",
              "      padding: 0 0 0 0;\n",
              "      width: 32px;\n",
              "    }\n",
              "\n",
              "    .colab-df-convert:hover {\n",
              "      background-color: #E2EBFA;\n",
              "      box-shadow: 0px 1px 2px rgba(60, 64, 67, 0.3), 0px 1px 3px 1px rgba(60, 64, 67, 0.15);\n",
              "      fill: #174EA6;\n",
              "    }\n",
              "\n",
              "    [theme=dark] .colab-df-convert {\n",
              "      background-color: #3B4455;\n",
              "      fill: #D2E3FC;\n",
              "    }\n",
              "\n",
              "    [theme=dark] .colab-df-convert:hover {\n",
              "      background-color: #434B5C;\n",
              "      box-shadow: 0px 1px 3px 1px rgba(0, 0, 0, 0.15);\n",
              "      filter: drop-shadow(0px 1px 2px rgba(0, 0, 0, 0.3));\n",
              "      fill: #FFFFFF;\n",
              "    }\n",
              "  </style>\n",
              "\n",
              "      <script>\n",
              "        const buttonEl =\n",
              "          document.querySelector('#df-ecec8de6-8ab0-414a-a319-399f677546e9 button.colab-df-convert');\n",
              "        buttonEl.style.display =\n",
              "          google.colab.kernel.accessAllowed ? 'block' : 'none';\n",
              "\n",
              "        async function convertToInteractive(key) {\n",
              "          const element = document.querySelector('#df-ecec8de6-8ab0-414a-a319-399f677546e9');\n",
              "          const dataTable =\n",
              "            await google.colab.kernel.invokeFunction('convertToInteractive',\n",
              "                                                     [key], {});\n",
              "          if (!dataTable) return;\n",
              "\n",
              "          const docLinkHtml = 'Like what you see? Visit the ' +\n",
              "            '<a target=\"_blank\" href=https://colab.research.google.com/notebooks/data_table.ipynb>data table notebook</a>'\n",
              "            + ' to learn more about interactive tables.';\n",
              "          element.innerHTML = '';\n",
              "          dataTable['output_type'] = 'display_data';\n",
              "          await google.colab.output.renderOutput(dataTable, element);\n",
              "          const docLink = document.createElement('div');\n",
              "          docLink.innerHTML = docLinkHtml;\n",
              "          element.appendChild(docLink);\n",
              "        }\n",
              "      </script>\n",
              "    </div>\n",
              "  </div>\n",
              "  "
            ]
          },
          "metadata": {},
          "execution_count": 5
        }
      ]
    },
    {
      "cell_type": "code",
      "source": [
        "geo = ['上海','北京','甘肃','四川','湖北','江苏','广东','辽宁','河南','东北','华南','华东','华北','西北','大城市','小城镇','农村','外地人','本地人','老乡']\n",
        "senarios = ['场景一','场景二','场景三','场景四','场景五','场景六','场景七','场景八','场景九','场景十','场景十一','场景十二']"
      ],
      "metadata": {
        "id": "Y0mZpMgeEGf2"
      },
      "execution_count": 89,
      "outputs": []
    },
    {
      "cell_type": "code",
      "source": [
        "#创建目标数据框\n",
        "summary = pd.DataFrame(index = geo, columns = senarios)"
      ],
      "metadata": {
        "id": "ArN5w0qBNgA3"
      },
      "execution_count": 109,
      "outputs": []
    },
    {
      "cell_type": "code",
      "source": [
        "selected = data[(data['随机场景'] == '场景一') & (data['随机地域'] == '上海')]\n",
        "#words.extend(selected['Q_1_1'])"
      ],
      "metadata": {
        "id": "9LmVtY17QmMe"
      },
      "execution_count": 69,
      "outputs": []
    },
    {
      "cell_type": "code",
      "source": [
        "def senario(scene):\n",
        "  for order in range(0,20): \n",
        "    words = []\n",
        "    selected = data[(data['随机场景'] == scene) & (data['随机地域'] == geo[order])]\n",
        "    for i in range(1,6):\n",
        "      if order > 0:\n",
        "       words.extend(selected['Q_'+str(i)+'_1'+'.'+str(order)])\n",
        "      else:\n",
        "        words.extend(selected['Q_'+str(i)+'_1'])\n",
        "    summary.loc[geo[order],scene] = words\n"
      ],
      "metadata": {
        "id": "YhGVbYNeyo6u"
      },
      "execution_count": 111,
      "outputs": []
    },
    {
      "cell_type": "code",
      "source": [
        "for scene in senarios:\n",
        "  senario(scene)"
      ],
      "metadata": {
        "id": "nVl5TzaOzBhs"
      },
      "execution_count": 112,
      "outputs": []
    },
    {
      "cell_type": "code",
      "source": [
        "summary.to_csv('/content/drive/MyDrive/Geographical stereotype/words_summary.csv')"
      ],
      "metadata": {
        "id": "dw2TjdTneonY"
      },
      "execution_count": 98,
      "outputs": []
    },
    {
      "cell_type": "code",
      "source": [
        "#remove duplicates\n",
        "list1 = []\n",
        "def distinct(scene):\n",
        "  for order in range(0,20):\n",
        "    list1 = summary.loc[geo[order],scene]\n",
        "    summary.loc[geo[order],scene] = list(set(list1))"
      ],
      "metadata": {
        "id": "HBgwjfYS0viD"
      },
      "execution_count": 121,
      "outputs": []
    },
    {
      "cell_type": "code",
      "source": [
        "for scene in senarios:\n",
        "  distinct(scene)"
      ],
      "metadata": {
        "id": "EAy3T0ZS13C7"
      },
      "execution_count": 122,
      "outputs": []
    },
    {
      "cell_type": "code",
      "source": [
        "#test\n",
        "summary.loc['北京','场景十']"
      ],
      "metadata": {
        "colab": {
          "base_uri": "https://localhost:8080/"
        },
        "id": "rm3m1k554TOi",
        "outputId": "e9e2d39b-31d4-49b9-9383-cc508b6a06be"
      },
      "execution_count": 127,
      "outputs": [
        {
          "output_type": "execute_result",
          "data": {
            "text/plain": [
              "['冷淡',\n",
              " '傲气',\n",
              " '直接',\n",
              " '直言不讳',\n",
              " '高高在上',\n",
              " '装看不见',\n",
              " '仗义直言',\n",
              " '拒绝',\n",
              " '豪爽',\n",
              " '忍耐',\n",
              " '反抗',\n",
              " '漂亮',\n",
              " '迎合',\n",
              " '好面子',\n",
              " '举止优雅',\n",
              " '无视',\n",
              " '心里愤怒',\n",
              " '无情',\n",
              " 'leng\\u2006mo',\n",
              " '大方',\n",
              " '实干',\n",
              " '洒脱']"
            ]
          },
          "metadata": {},
          "execution_count": 127
        }
      ]
    },
    {
      "cell_type": "code",
      "source": [
        "summary.to_csv('/content/drive/MyDrive/Geographical stereotype/words_distinct.csv')"
      ],
      "metadata": {
        "id": "XsiDdFim5UB3"
      },
      "execution_count": 129,
      "outputs": []
    }
  ]
}